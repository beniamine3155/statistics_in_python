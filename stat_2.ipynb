{
 "cells": [
  {
   "cell_type": "code",
   "execution_count": 12,
   "id": "fba6b26c-68ee-49cd-b8b3-958e690ea6b4",
   "metadata": {},
   "outputs": [],
   "source": [
    "import numpy as np\n",
    "import pandas as pd\n",
    "import matplotlib as pyplot\n",
    "import seaborn as sns\n",
    "from statistics import mode"
   ]
  },
  {
   "cell_type": "code",
   "execution_count": 2,
   "id": "206b1d88-190e-404a-b4e7-d86a53d4aee4",
   "metadata": {},
   "outputs": [],
   "source": [
    "population=np.random.randint(10,30,50)"
   ]
  },
  {
   "cell_type": "code",
   "execution_count": 3,
   "id": "5c39ca54-2fb3-4e9a-b245-49e5129f536f",
   "metadata": {},
   "outputs": [
    {
     "data": {
      "text/plain": [
       "array([25, 29, 16, 24, 20, 10, 11, 24, 14, 29, 10, 23, 25, 22, 19, 18, 20,\n",
       "       26, 24, 18, 14, 11, 27, 28, 10, 10, 12, 29, 29, 16, 17, 24, 11, 26,\n",
       "       27, 24, 13, 16, 10, 17, 24, 17, 15, 29, 19, 25, 16, 11, 12, 23])"
      ]
     },
     "execution_count": 3,
     "metadata": {},
     "output_type": "execute_result"
    }
   ],
   "source": [
    "population"
   ]
  },
  {
   "cell_type": "code",
   "execution_count": 5,
   "id": "ae397124-279a-4554-97d9-3a88368f294c",
   "metadata": {},
   "outputs": [
    {
     "data": {
      "text/plain": [
       "19.38"
      ]
     },
     "execution_count": 5,
     "metadata": {},
     "output_type": "execute_result"
    }
   ],
   "source": [
    "np.mean(population)"
   ]
  },
  {
   "cell_type": "code",
   "execution_count": 7,
   "id": "55aebeae-d588-4e91-aff3-5fc15edebd1f",
   "metadata": {},
   "outputs": [
    {
     "data": {
      "text/plain": [
       "19.0"
      ]
     },
     "execution_count": 7,
     "metadata": {},
     "output_type": "execute_result"
    }
   ],
   "source": [
    "np.median(population)"
   ]
  },
  {
   "cell_type": "code",
   "execution_count": 8,
   "id": "9cd8ad57-7a82-45f9-9d4e-f627c65e47a3",
   "metadata": {},
   "outputs": [
    {
     "data": {
      "text/plain": [
       "24"
      ]
     },
     "execution_count": 8,
     "metadata": {},
     "output_type": "execute_result"
    }
   ],
   "source": [
    "mode(population)"
   ]
  },
  {
   "cell_type": "code",
   "execution_count": 9,
   "id": "2f9a9d25-a37f-4c86-be0f-ebf8abc6133f",
   "metadata": {},
   "outputs": [
    {
     "name": "stdout",
     "output_type": "stream",
     "text": [
      "mean of the population 19.38\n",
      "median of the population 19.0\n",
      "mode of the population 24\n"
     ]
    }
   ],
   "source": [
    "print(f\"mean of the population {np.mean(population)}\")\n",
    "print(f\"median of the population {np.median(population)}\")\n",
    "print(f\"mode of the population {mode(population)}\")"
   ]
  },
  {
   "cell_type": "code",
   "execution_count": 18,
   "id": "8c1d6c76-ca59-4875-8ebf-878d20459c80",
   "metadata": {},
   "outputs": [],
   "source": [
    "sample = np.random.choice(population,20)"
   ]
  },
  {
   "cell_type": "code",
   "execution_count": 19,
   "id": "3563bb93-d44f-4b33-9872-8cf5a5ae7fba",
   "metadata": {},
   "outputs": [
    {
     "data": {
      "text/plain": [
       "array([14, 20, 14, 29, 11, 14, 20, 29, 25, 29, 25, 19, 24, 19, 17, 29, 18,\n",
       "       29, 15, 20])"
      ]
     },
     "execution_count": 19,
     "metadata": {},
     "output_type": "execute_result"
    }
   ],
   "source": [
    "sample"
   ]
  },
  {
   "cell_type": "code",
   "execution_count": 20,
   "id": "9a46f17f-64cf-411e-945f-46ed54600a0f",
   "metadata": {},
   "outputs": [
    {
     "name": "stdout",
     "output_type": "stream",
     "text": [
      "mean of the sample 21.0\n",
      "median of the sample 20.0\n",
      "mode of the sample 29\n"
     ]
    }
   ],
   "source": [
    "print(f\"mean of the sample {np.mean(sample)}\")\n",
    "print(f\"median of the sample {np.median(sample)}\")\n",
    "print(f\"mode of the sample {mode(sample)}\")"
   ]
  },
  {
   "cell_type": "code",
   "execution_count": 21,
   "id": "f4944926-a618-4066-967c-f0c8862b5102",
   "metadata": {},
   "outputs": [],
   "source": [
    "sample1=np.random.choice(population,20)\n",
    "sample2=np.random.choice(population,20)\n",
    "sample3=np.random.choice(population,20)\n",
    "sample4=np.random.choice(population,20)"
   ]
  },
  {
   "cell_type": "code",
   "execution_count": 22,
   "id": "09058015-71d7-4e6e-b564-1f9d392e9762",
   "metadata": {},
   "outputs": [
    {
     "name": "stdout",
     "output_type": "stream",
     "text": [
      "[26 20 16 16 10 29 11 27 14 11 17 27 29 29 24 24 20 14 16 17]\n",
      "============================================================\n",
      "[26 20 17 24 10 24 23 11 16 25 11 22 27 19 25 25 16 17 19 25]\n",
      "============================================================\n",
      "[25 24 29 15 16 10 11 29 27 29 29 29 24 14 24 17 29 12 23 20]\n",
      "============================================================\n",
      "[27 25 24 11 25 10 11 10 27 26 10 16 26 24 26 22 11 26 10 18]\n"
     ]
    }
   ],
   "source": [
    "print(sample1)\n",
    "print(60*\"=\")\n",
    "print(sample2)\n",
    "print(60*\"=\")\n",
    "print(sample3)\n",
    "print(60*\"=\")\n",
    "print(sample4)"
   ]
  },
  {
   "cell_type": "code",
   "execution_count": 23,
   "id": "a17b0244-1288-4cdf-bf4c-0c875c7a91de",
   "metadata": {},
   "outputs": [],
   "source": [
    "mean_of_samples=[]\n",
    "\n",
    "all_sample=[sample1,sample2,sample3,sample4]\n",
    "\n",
    "for sample in all_sample:\n",
    "    mean_of_samples.append(np.mean(sample))"
   ]
  },
  {
   "cell_type": "code",
   "execution_count": 24,
   "id": "1b7c667d-2d9c-4cfa-904a-4ee5fd7e73b6",
   "metadata": {},
   "outputs": [
    {
     "data": {
      "text/plain": [
       "[19.85, 20.1, 21.8, 19.25]"
      ]
     },
     "execution_count": 24,
     "metadata": {},
     "output_type": "execute_result"
    }
   ],
   "source": [
    "mean_of_samples"
   ]
  },
  {
   "cell_type": "code",
   "execution_count": 25,
   "id": "9d8757b8-b3f9-4841-a510-255c17f4571a",
   "metadata": {},
   "outputs": [
    {
     "data": {
      "text/plain": [
       "20.25"
      ]
     },
     "execution_count": 25,
     "metadata": {},
     "output_type": "execute_result"
    }
   ],
   "source": [
    "np.mean(mean_of_samples)"
   ]
  },
  {
   "cell_type": "code",
   "execution_count": null,
   "id": "b9c3176d-c099-4c8e-96ae-8bd7a69c68f3",
   "metadata": {},
   "outputs": [],
   "source": []
  }
 ],
 "metadata": {
  "kernelspec": {
   "display_name": "Python 3 (ipykernel)",
   "language": "python",
   "name": "python3"
  },
  "language_info": {
   "codemirror_mode": {
    "name": "ipython",
    "version": 3
   },
   "file_extension": ".py",
   "mimetype": "text/x-python",
   "name": "python",
   "nbconvert_exporter": "python",
   "pygments_lexer": "ipython3",
   "version": "3.11.7"
  }
 },
 "nbformat": 4,
 "nbformat_minor": 5
}
