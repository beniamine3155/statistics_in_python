{
 "cells": [
  {
   "cell_type": "code",
   "execution_count": 1,
   "id": "4513d148-da48-42ce-9821-ed6e55bec5d2",
   "metadata": {},
   "outputs": [],
   "source": [
    "import numpy as np\n",
    "import pandas as pd\n",
    "import matplotlib as pyplot\n",
    "import seaborn as sns"
   ]
  },
  {
   "cell_type": "code",
   "execution_count": 2,
   "id": "59c5be98-d661-4614-9b09-c169db567120",
   "metadata": {},
   "outputs": [],
   "source": [
    "data = [25, 23, 24, 32, 35, 22, 43, 57, 45, 32, 56, 32]"
   ]
  },
  {
   "cell_type": "code",
   "execution_count": 6,
   "id": "71156f51-9526-42af-830a-585e1af3a814",
   "metadata": {},
   "outputs": [
    {
     "data": {
      "text/plain": [
       "[25, 23, 24, 32, 35, 22, 43, 57, 45, 32, 56, 32]"
      ]
     },
     "execution_count": 6,
     "metadata": {},
     "output_type": "execute_result"
    }
   ],
   "source": [
    "data"
   ]
  },
  {
   "cell_type": "code",
   "execution_count": 10,
   "id": "06bcc8ff-4957-459f-aabc-cf96a3c33bf8",
   "metadata": {},
   "outputs": [
    {
     "data": {
      "text/plain": [
       "35.5"
      ]
     },
     "execution_count": 10,
     "metadata": {},
     "output_type": "execute_result"
    }
   ],
   "source": [
    "np.mean(data)"
   ]
  },
  {
   "cell_type": "code",
   "execution_count": 14,
   "id": "604a4114-eb08-4e79-9421-d15c0fa930f4",
   "metadata": {},
   "outputs": [],
   "source": [
    "import statistics as stat"
   ]
  },
  {
   "cell_type": "code",
   "execution_count": 15,
   "id": "bebf0334-d338-4d64-bf24-5726e9f7819a",
   "metadata": {},
   "outputs": [
    {
     "data": {
      "text/plain": [
       "32"
      ]
     },
     "execution_count": 15,
     "metadata": {},
     "output_type": "execute_result"
    }
   ],
   "source": [
    "stat.mode(data)"
   ]
  },
  {
   "cell_type": "code",
   "execution_count": 5,
   "id": "1edc7782-3f25-4fc0-ae42-a3e64abb82fe",
   "metadata": {},
   "outputs": [],
   "source": [
    "data_copy = data.copy()"
   ]
  },
  {
   "cell_type": "code",
   "execution_count": 7,
   "id": "d37f92a8-24fe-4157-8d4f-6f4bd25600a1",
   "metadata": {},
   "outputs": [
    {
     "data": {
      "text/plain": [
       "[25, 23, 24, 32, 35, 22, 43, 57, 45, 32, 56, 32]"
      ]
     },
     "execution_count": 7,
     "metadata": {},
     "output_type": "execute_result"
    }
   ],
   "source": [
    "data_copy"
   ]
  },
  {
   "cell_type": "code",
   "execution_count": 8,
   "id": "3e406b44-1900-4222-a3dc-e288256a3f1a",
   "metadata": {},
   "outputs": [],
   "source": [
    "data_copy.sort()"
   ]
  },
  {
   "cell_type": "code",
   "execution_count": 9,
   "id": "21145c40-1498-4e71-aa2b-6f6e96996bf5",
   "metadata": {},
   "outputs": [
    {
     "data": {
      "text/plain": [
       "[22, 23, 24, 25, 32, 32, 32, 35, 43, 45, 56, 57]"
      ]
     },
     "execution_count": 9,
     "metadata": {},
     "output_type": "execute_result"
    }
   ],
   "source": [
    "data_copy"
   ]
  },
  {
   "cell_type": "code",
   "execution_count": 16,
   "id": "546962cf-0493-4d3f-bcec-9ecfbe910658",
   "metadata": {},
   "outputs": [
    {
     "data": {
      "text/plain": [
       "32.0"
      ]
     },
     "execution_count": 16,
     "metadata": {},
     "output_type": "execute_result"
    }
   ],
   "source": [
    "np.median(data_copy)"
   ]
  },
  {
   "cell_type": "code",
   "execution_count": 21,
   "id": "3e07407e-2c00-4caf-a153-44172303e8e1",
   "metadata": {},
   "outputs": [],
   "source": [
    "new_data = [25, 23, 24, 32, 35, 22, 43, 57, 45, 32, 56, 32, 150]"
   ]
  },
  {
   "cell_type": "code",
   "execution_count": 27,
   "id": "d8a3a863-1d89-4093-bda9-aba49e6602b1",
   "metadata": {},
   "outputs": [
    {
     "data": {
      "text/plain": [
       "44.30769230769231"
      ]
     },
     "execution_count": 27,
     "metadata": {},
     "output_type": "execute_result"
    }
   ],
   "source": [
    "np.mean(new_data)"
   ]
  },
  {
   "cell_type": "code",
   "execution_count": 22,
   "id": "a962d347-95ff-4c0d-aadf-921a07726c75",
   "metadata": {},
   "outputs": [],
   "source": [
    "new_data.sort()"
   ]
  },
  {
   "cell_type": "code",
   "execution_count": 23,
   "id": "c3b7df48-f372-4cb3-b3ba-69fc92bc32d4",
   "metadata": {},
   "outputs": [
    {
     "data": {
      "text/plain": [
       "[22, 23, 24, 25, 32, 32, 32, 35, 43, 45, 56, 57, 150]"
      ]
     },
     "execution_count": 23,
     "metadata": {},
     "output_type": "execute_result"
    }
   ],
   "source": [
    "new_data"
   ]
  },
  {
   "cell_type": "code",
   "execution_count": 26,
   "id": "0c63dc1b-1597-4c4d-86fb-12f5c8589f0b",
   "metadata": {},
   "outputs": [
    {
     "data": {
      "text/plain": [
       "32.0"
      ]
     },
     "execution_count": 26,
     "metadata": {},
     "output_type": "execute_result"
    }
   ],
   "source": [
    "np.median(new_data)"
   ]
  },
  {
   "cell_type": "code",
   "execution_count": 28,
   "id": "f30943e4-7d95-4faf-81a9-ac98c8fa62d2",
   "metadata": {},
   "outputs": [
    {
     "data": {
      "text/plain": [
       "[22, 23, 24, 25, 32, 32, 32, 35, 43, 45, 56, 57]"
      ]
     },
     "execution_count": 28,
     "metadata": {},
     "output_type": "execute_result"
    }
   ],
   "source": [
    "data_copy"
   ]
  },
  {
   "cell_type": "code",
   "execution_count": 32,
   "id": "82b134bb-0868-4f8b-a0ba-81cee794aa48",
   "metadata": {},
   "outputs": [
    {
     "data": {
      "text/plain": [
       "array([24.75])"
      ]
     },
     "execution_count": 32,
     "metadata": {},
     "output_type": "execute_result"
    }
   ],
   "source": [
    "np.percentile(data_copy,[25])"
   ]
  },
  {
   "cell_type": "code",
   "execution_count": 33,
   "id": "b49bcde3-8ebe-4366-809b-3883a38d26e7",
   "metadata": {},
   "outputs": [
    {
     "data": {
      "text/plain": [
       "array([32.])"
      ]
     },
     "execution_count": 33,
     "metadata": {},
     "output_type": "execute_result"
    }
   ],
   "source": [
    "np.percentile(data_copy,[50])"
   ]
  },
  {
   "cell_type": "code",
   "execution_count": 34,
   "id": "ad3b9653-240f-454d-95f8-ae1fed97199e",
   "metadata": {},
   "outputs": [
    {
     "data": {
      "text/plain": [
       "array([43.5])"
      ]
     },
     "execution_count": 34,
     "metadata": {},
     "output_type": "execute_result"
    }
   ],
   "source": [
    "np.percentile(data_copy,[75])"
   ]
  },
  {
   "cell_type": "code",
   "execution_count": 35,
   "id": "e26578d1-eec7-40ab-9e8f-749d880217e8",
   "metadata": {},
   "outputs": [
    {
     "data": {
      "text/plain": [
       "array([24.75, 32.  , 43.5 , 57.  ])"
      ]
     },
     "execution_count": 35,
     "metadata": {},
     "output_type": "execute_result"
    }
   ],
   "source": [
    "np.percentile(data_copy,[25,50,75,100])"
   ]
  },
  {
   "cell_type": "code",
   "execution_count": 36,
   "id": "9d2dfcbf-9476-43fa-ab90-957b9a67c3df",
   "metadata": {},
   "outputs": [
    {
     "data": {
      "text/plain": [
       "<Axes: >"
      ]
     },
     "execution_count": 36,
     "metadata": {},
     "output_type": "execute_result"
    },
    {
     "data": {
      "image/png": "[encoded data removed]",
      "text/plain": [
       "<Figure size 640x480 with 1 Axes>"
      ]
     },
     "metadata": {},
     "output_type": "display_data"
    }
   ],
   "source": [
    "sns.boxplot(data_copy)"
   ]
  },
  {
   "cell_type": "code",
   "execution_count": 37,
   "id": "95b1f579-9cef-4583-beeb-c3cbff6c1075",
   "metadata": {},
   "outputs": [
    {
     "data": {
      "text/plain": [
       "<Axes: >"
      ]
     },
     "execution_count": 37,
     "metadata": {},
     "output_type": "execute_result"
    },
    {
     "data": {
      "image/png": "[encoded data removed]",
      "text/plain": [
       "<Figure size 640x480 with 1 Axes>"
      ]
     },
     "metadata": {},
     "output_type": "display_data"
    }
   ],
   "source": [
    "sns.boxplot(new_data)"
   ]
  },
  {
   "cell_type": "code",
   "execution_count": 38,
   "id": "d808464a-ca65-4ca2-9ca5-51f8d40c6a3f",
   "metadata": {},
   "outputs": [
    {
     "data": {
      "text/plain": [
       "array([35, 57, 25, 22, 32])"
      ]
     },
     "execution_count": 38,
     "metadata": {},
     "output_type": "execute_result"
    }
   ],
   "source": [
    "np.random.choice(data,size=5)"
   ]
  },
  {
   "cell_type": "code",
   "execution_count": 39,
   "id": "26a861cb-1217-47bc-a7a0-0996553bba5d",
   "metadata": {},
   "outputs": [
    {
     "data": {
      "text/plain": [
       "137.25"
      ]
     },
     "execution_count": 39,
     "metadata": {},
     "output_type": "execute_result"
    }
   ],
   "source": [
    "np.var(data)"
   ]
  },
  {
   "cell_type": "code",
   "execution_count": 40,
   "id": "18c19d73-54d8-4d04-b103-38a84dc9f5f8",
   "metadata": {},
   "outputs": [
    {
     "data": {
      "text/plain": [
       "11.715374513859981"
      ]
     },
     "execution_count": 40,
     "metadata": {},
     "output_type": "execute_result"
    }
   ],
   "source": [
    "np.std(data)"
   ]
  },
  {
   "cell_type": "code",
   "execution_count": null,
   "id": "e198389d-213f-4b1b-855b-9c81b18cca5f",
   "metadata": {},
   "outputs": [],
   "source": []
  }
 ],
 "metadata": {
  "kernelspec": {
   "display_name": "Python 3 (ipykernel)",
   "language": "python",
   "name": "python3"
  },
  "language_info": {
   "codemirror_mode": {
    "name": "ipython",
    "version": 3
   },
   "file_extension": ".py",
   "mimetype": "text/x-python",
   "name": "python",
   "nbconvert_exporter": "python",
   "pygments_lexer": "ipython3",
   "version": "3.11.7"
  }
 },
 "nbformat": 4,
 "nbformat_minor": 5
}
